{
 "cells": [
  {
   "cell_type": "markdown",
   "id": "2b53efef-43af-4275-9115-8661727b576c",
   "metadata": {},
   "source": [
    "#### Merge Gap Fraction\n",
    "Combine csv files with gap fraction values for each site into a single csv with columns for LocationID, median gap fraction, minimum gap fraction, and maximum gap fraction. "
   ]
  },
  {
   "cell_type": "code",
   "execution_count": 1,
   "id": "2b4c81bc-b09a-423d-b4d1-feeb16d320f6",
   "metadata": {},
   "outputs": [],
   "source": [
    "import pandas as pd\n",
    "import numpy as np"
   ]
  },
  {
   "cell_type": "code",
   "execution_count": 2,
   "id": "ecec89fd-d7aa-42f4-afe7-78b99de86b05",
   "metadata": {},
   "outputs": [],
   "source": [
    "Landscape = pd.read_csv(\"D:\\\\JohnsWork\\\\CleElumRidge\\\\HemiData\\\\GapFraction\\\\CS-G\\\\HemipixResultsLandscape.csv\")\n",
    "Landscape.drop(columns = 'Index', inplace = True)\n",
    "Landscape.set_index('photo', inplace = True)\n",
    "Portrait = pd.read_csv(\"D:\\\\JohnsWork\\\\CleElumRidge\\\\HemiData\\\\GapFraction\\\\CS-G\\\\HemipixResultsPortrait.csv\")\n",
    "Portrait.drop(columns = 'Index', inplace = True)\n",
    "Portrait.set_index('photo', inplace = True)\n",
    "frames = [Landscape, Portrait]\n",
    "combined = pd.concat(frames)\n",
    "combined.to_csv(\"D:\\\\JohnsWork\\\\CleElumRidge\\\\HemiData\\\\GapFraction\\\\CS-G\\\\CS-GHemipixResults.csv\")"
   ]
  },
  {
   "cell_type": "code",
   "execution_count": 18,
   "id": "750af06e-8fb0-46d7-9496-1f5cc7213ca1",
   "metadata": {
    "tags": []
   },
   "outputs": [],
   "source": [
    "CNG = pd.read_csv(\"D:\\\\JohnsWork\\\\CleElumRidge\\\\HemiData\\\\GapFraction\\\\CN-G\\\\CN-GHemipixResults.csv\")\n",
    "CNG.set_index('photo', inplace = True)\n",
    "\n",
    "CNF = pd.read_csv(\"D:\\\\JohnsWork\\\\CleElumRidge\\\\HemiData\\\\GapFraction\\\\CN-F\\\\CN-FHemipixResults.csv\")\n",
    "CNF.set_index('photo', inplace = True)\n",
    "\n",
    "CN20 = pd.read_csv(\"D:\\\\JohnsWork\\\\CleElumRidge\\\\HemiData\\\\GapFraction\\\\CN-20\\\\CN-20HemipixResults.csv\")\n",
    "CN20.set_index('photo', inplace = True)\n",
    "\n",
    "CN50 = pd.read_csv(\"D:\\\\JohnsWork\\\\CleElumRidge\\\\HemiData\\\\GapFraction\\\\CN-50\\\\CN-50HemipixResults.csv\")\n",
    "CN50.set_index('photo', inplace = True)\n",
    "\n",
    "CN60 = pd.read_csv(\"D:\\\\JohnsWork\\\\CleElumRidge\\\\HemiData\\\\GapFraction\\\\CN-60\\\\CN-60HemipixResults.csv\")\n",
    "CN60.set_index('photo', inplace = True)\n",
    "\n",
    "CN70 = pd.read_csv(\"D:\\\\JohnsWork\\\\CleElumRidge\\\\HemiData\\\\GapFraction\\\\CN-70\\\\CN-70HemipixResults.csv\")\n",
    "CN70.set_index('photo', inplace = True)\n",
    "\n",
    "frames = [CNG,CNF,CN20,CN50,CN60,CN70]\n",
    "combined = pd.concat(frames)\n",
    "combined.to_csv(\"D:\\\\JohnsWork\\\\CleElumRidge\\\\HemiData\\\\GapFraction\\\\RawGapFractionCN.csv\")"
   ]
  },
  {
   "cell_type": "code",
   "execution_count": 2,
   "id": "bb45571f-961d-47d2-85c9-9c41bd36e82a",
   "metadata": {},
   "outputs": [],
   "source": [
    "gapf = pd.read_csv(\"D:\\\\JohnsWork\\\\CleElumRidge\\\\HemiData\\\\GapFraction\\\\RawGapFractionCS.csv\")"
   ]
  },
  {
   "cell_type": "code",
   "execution_count": 9,
   "id": "48b60b95-8eb1-4fb1-be75-1a4eca61f298",
   "metadata": {},
   "outputs": [],
   "source": [
    "CS_median = gapf.groupby('LocationID')['gap_fraction'].median()\n",
    "CS_min = gapf.groupby('LocationID')['gap_fraction'].min()\n",
    "CS_max = gapf.groupby('LocationID')['gap_fraction'].max()\n",
    "CS_combined = pd.merge(CS_median, CS_min, left_index=True, right_index=True, how = 'outer')\n",
    "CS_combined = pd.merge(CS_combined, CS_max, left_index=True, right_index=True, how = 'outer')\n",
    "CS_combined.rename(columns={\"gap_fraction_x\":\"median\",\"gap_fraction_y\":\"min\",\"gap_fraction\":\"max\"}, inplace = True)"
   ]
  },
  {
   "cell_type": "code",
   "execution_count": 11,
   "id": "f96473ba-8510-4b70-9fbf-663edf7bf4eb",
   "metadata": {},
   "outputs": [],
   "source": [
    "CS_combined.to_csv(\"D:\\\\JohnsWork\\\\CleElumRidge\\\\HemiData\\\\GapFraction\\\\ProcessedGapFractionCS.csv\")"
   ]
  }
 ],
 "metadata": {
  "kernelspec": {
   "display_name": "Python 3 (ipykernel)",
   "language": "python",
   "name": "python3"
  },
  "language_info": {
   "codemirror_mode": {
    "name": "ipython",
    "version": 3
   },
   "file_extension": ".py",
   "mimetype": "text/x-python",
   "name": "python",
   "nbconvert_exporter": "python",
   "pygments_lexer": "ipython3",
   "version": "3.9.13"
  }
 },
 "nbformat": 4,
 "nbformat_minor": 5
}

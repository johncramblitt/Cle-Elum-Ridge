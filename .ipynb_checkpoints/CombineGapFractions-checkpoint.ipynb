{
 "cells": [
  {
   "cell_type": "markdown",
   "id": "2b53efef-43af-4275-9115-8661727b576c",
   "metadata": {},
   "source": [
    "#### Merge Gap Fraction\n",
    "Combine csv files with gap fraction values for each site into a single csv with columns for LocationID, median gap fraction, minimum gap fraction, and maximum gap fraction. "
   ]
  },
  {
   "cell_type": "code",
   "execution_count": 30,
   "id": "10ddbe2a-e476-4c05-9f95-6f9e465132da",
   "metadata": {},
   "outputs": [],
   "source": [
    "import pandas as pd\n",
    "import numpy as np"
   ]
  },
  {
   "cell_type": "code",
   "execution_count": 26,
   "id": "6ac14784-bf66-441d-ad73-7d36d469cb27",
   "metadata": {},
   "outputs": [],
   "source": [
    "Landscape = pd.read_csv(\"D:\\\\JohnsWork\\\\CleElumRidge\\\\HemiData\\\\GapFraction\\\\CS-60\\\\HemipixResultsLandscape.csv\")\n",
    "Landscape.drop(columns = 'Index', inplace = True)\n",
    "Landscape.set_index('photo', inplace = True)\n",
    "Portrait = pd.read_csv(\"D:\\\\JohnsWork\\\\CleElumRidge\\\\HemiData\\\\GapFraction\\\\CS-60\\\\HemipixResultsPortrait.csv\")\n",
    "Portrait.drop(columns = 'Index', inplace = True)\n",
    "Portrait.set_index('photo', inplace = True)\n",
    "frames = [Landscape, Portrait]\n",
    "combined = pd.concat(frames)\n",
    "combined.to_csv(\"D:\\\\JohnsWork\\\\CleElumRidge\\\\HemiData\\\\GapFraction\\\\CS-60\\\\CS-60HemipixResults.csv\")"
   ]
  },
  {
   "cell_type": "code",
   "execution_count": 38,
   "id": "28e5af2f-abdc-47fb-86cb-9b83a765d760",
   "metadata": {},
   "outputs": [],
   "source": [
    "gapf = pd.read_csv(\"D:\\\\JohnsWork\\\\CleElumRidge\\\\HemiData\\\\GapFraction\\\\RawGapFractionCS.csv\")"
   ]
  },
  {
   "cell_type": "code",
   "execution_count": 39,
   "id": "37f3702e-ec34-4dc5-9bf5-95a7bce3634f",
   "metadata": {},
   "outputs": [],
   "source": [
    "CS_median = gapf.groupby('LocationID')['gap_fraction'].median()\n",
    "CS_min = gapf.groupby('LocationID')['gap_fraction'].min()\n",
    "CS_max = gapf.groupby('LocationID')['gap_fraction'].max()\n",
    "CS_combined = pd.merge(CS_median, CS_min, left_index=True, right_index=True, how = 'outer')\n",
    "CS_combined = pd.merge(CS_combined, CS_max, left_index=True, right_index=True, how = 'outer')\n",
    "CS_combined.rename(columns={\"gap_fraction_x\":\"median\",\"gap_fraction_y\":\"min\",\"gap_fraction\":\"max\"}, inplace = True)"
   ]
  },
  {
   "cell_type": "code",
   "execution_count": 41,
   "id": "d4f54127-326b-42fb-88e9-e41902ca928a",
   "metadata": {},
   "outputs": [],
   "source": [
    "CS_combined.to_csv(\"D:\\\\JohnsWork\\\\CleElumRidge\\\\HemiData\\\\GapFraction\\\\ProcessedGapFractionCS.csv\")"
   ]
  }
 ],
 "metadata": {
  "kernelspec": {
   "display_name": "Python 3 (ipykernel)",
   "language": "python",
   "name": "python3"
  },
  "language_info": {
   "codemirror_mode": {
    "name": "ipython",
    "version": 3
   },
   "file_extension": ".py",
   "mimetype": "text/x-python",
   "name": "python",
   "nbconvert_exporter": "python",
   "pygments_lexer": "ipython3",
   "version": "3.9.13"
  }
 },
 "nbformat": 4,
 "nbformat_minor": 5
}

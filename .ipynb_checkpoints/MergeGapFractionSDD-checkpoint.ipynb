{
 "cells": [
  {
   "cell_type": "markdown",
   "id": "f0dc52ef-9bc8-4f26-939d-37bb81c88ce7",
   "metadata": {},
   "source": [
    "### Merge Gap Fraction with Snow Disappearance Dates\n",
    "\n",
    "Create a mster csv indexed by LocationID, with columns for identifying information, gap fraction stats, and snow disapperance date."
   ]
  },
  {
   "cell_type": "code",
   "execution_count": 1,
   "id": "32ff786e-d5b6-4f6b-af3c-fc5fd547b177",
   "metadata": {},
   "outputs": [],
   "source": [
    "import pandas as pd\n",
    "import matplotlib as mpl\n",
    "import matplotlib.pyplot as plt\n",
    "import numpy as np\n",
    "import datetime as datetime\n",
    "from matplotlib import dates"
   ]
  },
  {
   "cell_type": "code",
   "execution_count": 26,
   "id": "02f22181-7687-424f-8ff4-a3a66382429a",
   "metadata": {},
   "outputs": [],
   "source": [
    "CNgapf = pd.read_csv(\"D:\\\\JohnsWork\\\\CleElumRidge\\\\HemiData\\\\GapFraction\\\\ProcessedGapFractionCN.csv\")\n",
    "CNgapf.set_index('LocationID', inplace = True)\n",
    "CSgapf = pd.read_csv(\"D:\\\\JohnsWork\\\\CleElumRidge\\\\HemiData\\\\GapFraction\\\\ProcessedGapFractionCS.csv\")\n",
    "CSgapf.set_index('LocationID', inplace = True)\n",
    "SDD = pd.read_csv(\"D:\\\\JohnsWork\\\\CleElumRidge\\\\SnowDisappearanceDate.csv\")\n",
    "SDD.set_index('LocationID', inplace = True)\n",
    "SDD.dropna(how='all', axis='columns', inplace = True)"
   ]
  },
  {
   "cell_type": "code",
   "execution_count": 38,
   "id": "5473cf4a-084c-4afa-b9e6-2c610b0b6eef",
   "metadata": {},
   "outputs": [],
   "source": [
    "frames = (CNgapf,CSgapf)\n",
    "mastergapf = pd.concat(frames)\n",
    "mastercsv = pd.merge(mastergapf, SDD, left_index=True, right_index=True, how = 'outer')"
   ]
  },
  {
   "cell_type": "code",
   "execution_count": 41,
   "id": "96612f36-d85b-4162-9996-fe22d063cd24",
   "metadata": {},
   "outputs": [],
   "source": [
    "mastercsv.to_csv(\"D:\\\\JohnsWork\\\\CleElumRidge\\\\Gap_Fraction_and_SDD.csv\")"
   ]
  }
 ],
 "metadata": {
  "kernelspec": {
   "display_name": "Python 3 (ipykernel)",
   "language": "python",
   "name": "python3"
  },
  "language_info": {
   "codemirror_mode": {
    "name": "ipython",
    "version": 3
   },
   "file_extension": ".py",
   "mimetype": "text/x-python",
   "name": "python",
   "nbconvert_exporter": "python",
   "pygments_lexer": "ipython3",
   "version": "3.9.13"
  }
 },
 "nbformat": 4,
 "nbformat_minor": 5
}

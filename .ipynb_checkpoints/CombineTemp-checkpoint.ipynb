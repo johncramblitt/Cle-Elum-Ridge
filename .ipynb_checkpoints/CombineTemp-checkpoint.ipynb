{
 "cells": [
  {
   "cell_type": "markdown",
   "id": "aed74fed-97ac-45ad-9778-ceb8c5849200",
   "metadata": {},
   "source": [
    "### Clean and Combine Temperature Data\n",
    "Combine csv files for each stake as well as air temprature to create a netCDF file with columns for datetime and temperature at each sensor. "
   ]
  },
  {
   "cell_type": "code",
   "execution_count": 234,
   "id": "b3e9965f-ae5f-4fb4-93f3-43abbfc824b8",
   "metadata": {},
   "outputs": [],
   "source": [
    "import pandas as pd\n",
    "import matplotlib.pyplot as plt\n",
    "import numpy as np\n",
    "import datetime\n",
    "from matplotlib import dates\n",
    "import xarray as xr"
   ]
  },
  {
   "cell_type": "markdown",
   "id": "651fa6ac-400e-4c2e-889a-06d2828ce105",
   "metadata": {},
   "source": [
    "Create dataframes with necessary columns only from csv files, skipping an unecessary row.  "
   ]
  },
  {
   "cell_type": "code",
   "execution_count": 235,
   "id": "6ffe1df5-aed9-40bc-a16a-846b15661dbc",
   "metadata": {},
   "outputs": [],
   "source": [
    "CSGA = pd.read_csv(\"D:\\\\JohnsWork\\\\CleElumRidge\\\\TemperatureData\\\\RawTempData\\\\CSG\\\\CSGA.csv\", skiprows = 1, usecols=range(3))\n",
    "CSG1 = pd.read_csv(\"D:\\\\JohnsWork\\\\CleElumRidge\\\\TemperatureData\\\\RawTempData\\\\CSG\\\\CSG1.csv\", skiprows = 1, usecols=range(3))\n",
    "CSG2 = pd.read_csv(\"D:\\\\JohnsWork\\\\CleElumRidge\\\\TemperatureData\\\\RawTempData\\\\CSG\\\\CSG2.csv\", skiprows = 1, usecols=range(3))\n",
    "CSG3 = pd.read_csv(\"D:\\\\JohnsWork\\\\CleElumRidge\\\\TemperatureData\\\\RawTempData\\\\CSG\\\\CSG3.csv\", skiprows = 1, usecols=range(3))\n",
    "CSG4 = pd.read_csv(\"D:\\\\JohnsWork\\\\CleElumRidge\\\\TemperatureData\\\\RawTempData\\\\CSG\\\\CSG4.csv\", skiprows = 1, usecols=range(3))\n",
    "CSG5 = pd.read_csv(\"D:\\\\JohnsWork\\\\CleElumRidge\\\\TemperatureData\\\\RawTempData\\\\CSG\\\\CSG5.csv\", skiprows = 1, usecols=range(3))\n",
    "CSG6 = pd.read_csv(\"D:\\\\JohnsWork\\\\CleElumRidge\\\\TemperatureData\\\\RawTempData\\\\CSG\\\\CSG6.csv\", skiprows = 1, usecols=range(3))\n",
    "CSG7 = pd.read_csv(\"D:\\\\JohnsWork\\\\CleElumRidge\\\\TemperatureData\\\\RawTempData\\\\CSG\\\\CSG7.csv\", skiprows = 1, usecols=range(3))\n",
    "CSG8 = pd.read_csv(\"D:\\\\JohnsWork\\\\CleElumRidge\\\\TemperatureData\\\\RawTempData\\\\CSG\\\\CSG8.csv\", skiprows = 1, usecols=range(3))\n",
    "CSG9 = pd.read_csv(\"D:\\\\JohnsWork\\\\CleElumRidge\\\\TemperatureData\\\\RawTempData\\\\CSG\\\\CSG9.csv\", skiprows = 1, usecols=range(3))"
   ]
  },
  {
   "cell_type": "markdown",
   "id": "b96b9771-5650-4913-9379-e9450b1671eb",
   "metadata": {},
   "source": [
    "Rename columns, make sure datetime columns is type datetime, set the index to datetime, and drop an unecessary column"
   ]
  },
  {
   "cell_type": "code",
   "execution_count": 236,
   "id": "0e6ce889-edeb-4408-ba24-910a455fa477",
   "metadata": {},
   "outputs": [],
   "source": [
    "CSG1.columns = ['#', 'Datetime', 'CSG1_temp']\n",
    "CSG1['Datetime']=pd.to_datetime(CSG1['Datetime'])\n",
    "CSG1 = CSG1.set_index('Datetime')\n",
    "CSG1.drop('#',inplace = True, axis=1)\n",
    "CSG2.columns = ['#', 'Datetime', 'CSG2_temp']\n",
    "CSG2['Datetime']=pd.to_datetime(CSG2['Datetime'])\n",
    "CSG2 = CSG2.set_index('Datetime')\n",
    "CSG2.drop('#',inplace = True, axis=1)\n",
    "CSG3.columns = ['#', 'Datetime', 'CSG3_temp']\n",
    "CSG3['Datetime']=pd.to_datetime(CSG3['Datetime'])\n",
    "CSG3 = CSG3.set_index('Datetime')\n",
    "CSG3.drop('#',inplace = True, axis=1)\n",
    "CSG4.columns = ['#', 'Datetime', 'CSG4_temp']\n",
    "CSG4['Datetime']=pd.to_datetime(CSG4['Datetime'])\n",
    "CSG4 = CSG4.set_index('Datetime')\n",
    "CSG4.drop('#',inplace = True, axis=1)\n",
    "CSG5.columns = ['#', 'Datetime', 'CSG5_temp']\n",
    "CSG5['Datetime']=pd.to_datetime(CSG5['Datetime'])\n",
    "CSG5 = CSG5.set_index('Datetime')\n",
    "CSG5.drop('#',inplace = True, axis=1)\n",
    "CSG6.columns = ['#', 'Datetime', 'CSG6_temp']\n",
    "CSG6['Datetime']=pd.to_datetime(CSG6['Datetime'])\n",
    "CSG6 = CSG6.set_index('Datetime')\n",
    "CSG6.drop('#',inplace = True, axis=1)\n",
    "CSG7.columns = ['#', 'Datetime', 'CSG7_temp']\n",
    "CSG7['Datetime']=pd.to_datetime(CSG7['Datetime'])\n",
    "CSG7 = CSG7.set_index('Datetime')\n",
    "CSG7.drop('#',inplace = True, axis=1)\n",
    "CSG8.columns = ['#', 'Datetime', 'CSG8_temp']\n",
    "CSG8['Datetime']=pd.to_datetime(CSG8['Datetime'])\n",
    "CSG8 = CSG8.set_index('Datetime')\n",
    "CSG8.drop('#',inplace = True, axis=1)\n",
    "CSG9.columns = ['#', 'Datetime', 'CSG9_temp']\n",
    "CSG9['Datetime']=pd.to_datetime(CSG9['Datetime'])\n",
    "CSG9 = CSG9.set_index('Datetime')\n",
    "CSG9.drop('#',inplace = True, axis= 1)\n",
    "CSGA.columns = ['#', 'Datetime', 'CSGA_temp']\n",
    "CSGA['Datetime']=pd.to_datetime(CSGA['Datetime'])\n",
    "CSGA = CSGA.set_index('Datetime')\n",
    "CSGA.drop('#',inplace = True, axis= 1)"
   ]
  },
  {
   "cell_type": "markdown",
   "id": "b8752c7d-2e26-44b7-8c98-734249760f71",
   "metadata": {},
   "source": [
    "Merge dataframes by datetime"
   ]
  },
  {
   "cell_type": "code",
   "execution_count": 237,
   "id": "71e09393-f640-43cd-92e8-61e9b626014e",
   "metadata": {},
   "outputs": [],
   "source": [
    "df_all = pd.merge(CSG1,CSG2, left_index=True, right_index=True, how = 'outer')\n",
    "df_all = pd.merge(df_all,CSG3, left_index=True, right_index=True, how = 'outer')\n",
    "df_all = pd.merge(df_all,CSG4, left_index=True, right_index=True, how = 'outer')\n",
    "df_all = pd.merge(df_all,CSG5, left_index=True, right_index=True, how = 'outer')\n",
    "df_all = pd.merge(df_all,CSG6, left_index=True, right_index=True, how = 'outer')\n",
    "df_all = pd.merge(df_all,CSG7, left_index=True, right_index=True, how = 'outer')\n",
    "df_all = pd.merge(df_all,CSG8, left_index=True, right_index=True, how = 'outer')\n",
    "df_all = pd.merge(df_all,CSG9, left_index=True, right_index=True, how = 'outer')\n",
    "df_all = pd.merge(df_all,CSGA, left_index=True, right_index=True, how = 'outer')"
   ]
  },
  {
   "cell_type": "markdown",
   "id": "a4bfa000-814b-41f3-adc5-2c622e666232",
   "metadata": {},
   "source": [
    "Save dataframe as netcdf"
   ]
  },
  {
   "cell_type": "code",
   "execution_count": 241,
   "id": "9acd9c71-96d1-4db1-a8a9-17e18ae26da0",
   "metadata": {},
   "outputs": [],
   "source": [
    "xr_all = df_all.to_xarray()\n",
    "xr_all.to_netcdf(path=\"D:\\\\JohnsWork\\\\CleElumRidge\\\\TemperatureData\\\\CLeanedTempData\\\\CSGTempData.nc\")"
   ]
  }
 ],
 "metadata": {
  "kernelspec": {
   "display_name": "Python 3 (ipykernel)",
   "language": "python",
   "name": "python3"
  },
  "language_info": {
   "codemirror_mode": {
    "name": "ipython",
    "version": 3
   },
   "file_extension": ".py",
   "mimetype": "text/x-python",
   "name": "python",
   "nbconvert_exporter": "python",
   "pygments_lexer": "ipython3",
   "version": "3.9.13"
  }
 },
 "nbformat": 4,
 "nbformat_minor": 5
}
